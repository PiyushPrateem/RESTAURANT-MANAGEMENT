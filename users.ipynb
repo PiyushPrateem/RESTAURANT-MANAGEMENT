{
 "cells": [
  {
   "cell_type": "code",
   "execution_count": null,
   "id": "889bc191",
   "metadata": {},
   "outputs": [],
   "source": [
    "def login():\n",
    "    print(\"******Login Page*******\")\n",
    "    print(\"1. NEW USER \")\n",
    "    print(\"2. EXISTING USER \")\n",
    "    ch=int(input(\"ENTER YOUR CHOICE-->>\"))\n",
    "    if ch==1:\n",
    "        name=input(\"ENTER YOUR NAME----->\")\n",
    "        pwd=input(\"ENTER A PASSWORD----->\")\n",
    "        lower=0\n",
    "        upper=0\n",
    "        special=0\n",
    "        digit=0\n",
    "        if(len(pwd)>=8):\n",
    "            for i in pwd:\n",
    "                if (i.islower()):\n",
    "                    lower+=1\n",
    "                if (i.isupper()):\n",
    "                    upper+=1\n",
    "                if (i=='_' or i=='$' or i=='@'):\n",
    "                    special+=1\n",
    "                if (i.isdigit()):\n",
    "                    digit+=1\n",
    "        if (lower>=1 and upper>=1 and special>=1 and digit>=1):\n",
    "            print(\"!ACCOUNT CREATED!\")\n",
    "        else:\n",
    "            print(\"!INVALID PASSWORD!\")\n",
    "            print(\"!Password must be atleast 6 characters long!\")\n",
    "            print(\"!Password must contain atleast one digit,atleast one lower case and atleast one upper case,atleast one special character \")\n",
    "        f=open('users.txt','a')\n",
    "        f.write(name)\n",
    "        f.write(pwd)\n",
    "        f.close()\n",
    "    elif ch==2:\n",
    "        n=input(\"ENTER YOUR NAME----->\")\n",
    "        pas=input(\"ENTER A PASSWORD----->\")\n",
    "        file = open(\"users.txt\")\n",
    "        if(n in file.read() and pas in file.read()):\n",
    "            print(\"!LOGGED IN!\")\n",
    "        else:\n",
    "            print(\"!INVALID!\")\n",
    "    else:\n",
    "         print(\"!INVALID!\")"
   ]
  }
 ],
 "metadata": {
  "kernelspec": {
   "display_name": "Python 3 (ipykernel)",
   "language": "python",
   "name": "python3"
  },
  "language_info": {
   "codemirror_mode": {
    "name": "ipython",
    "version": 3
   },
   "file_extension": ".py",
   "mimetype": "text/x-python",
   "name": "python",
   "nbconvert_exporter": "python",
   "pygments_lexer": "ipython3",
   "version": "3.9.12"
  }
 },
 "nbformat": 4,
 "nbformat_minor": 5
}
